{
 "cells": [
  {
   "cell_type": "markdown",
   "metadata": {},
   "source": [
    "# Exercise 8\n",
    "1. Fungsi is_sentence_case merupakan fungsi yang mengembalikan nilai boolean True jika huruf pertama pada input string berupa huruf kapital atau mengembalikan nilai boolean False jika huruf pertama pada input string bukan berupa huruf kapital. Salinlah kode dibawah ini dan lengkapi kode yang rumpang sehingga menghasilkan input yang diinginkan\n",
    "![](./images/08_FungsiFungsiString01.png)"
   ]
  },
  {
   "cell_type": "code",
   "execution_count": 5,
   "metadata": {},
   "outputs": [
    {
     "name": "stdout",
     "output_type": "stream",
     "text": [
      "False\n",
      "True\n"
     ]
    }
   ],
   "source": [
    "def is_sentence_case(str):\n",
    "    if str == str.capitalize():\n",
    "        return True\n",
    "    else:\n",
    "        return False\n",
    "\n",
    "print (is_sentence_case(\"aku suka kamu\"))\n",
    "print (is_sentence_case(\"Tapi bohong\"))"
   ]
  },
  {
   "cell_type": "markdown",
   "metadata": {},
   "source": [
    "2. Fungsi vowel_letters_count merupakan fungsi yang mengembalikan jumlah huruf vokal pada input kalimat. Salinlah kode berikut dan lengkapi kode sehingga menghasilkan output yang diinginkan\n",
    "![](./images/08_FungsiFungsiString02.png)"
   ]
  },
  {
   "cell_type": "code",
   "execution_count": 11,
   "metadata": {},
   "outputs": [
    {
     "name": "stdout",
     "output_type": "stream",
     "text": [
      "a =  6\n",
      "i =  4\n",
      "u =  1\n",
      "e =  1\n",
      "o =  0\n",
      "Total =  12\n",
      "None\n"
     ]
    }
   ],
   "source": [
    "def vowel_letters_count(str):\n",
    "    x=str.lower()\n",
    "    print ('a = ',x.count('a'))\n",
    "    print ('i = ',x.count('i'))\n",
    "    print ('u = ',x.count('u'))\n",
    "    print ('e = ',x.count('e'))\n",
    "    print ('o = ',x.count('o'))\n",
    "    print ('Total = ',x.count('o')+x.count('e')+x.count('u')+x.count('i')+x.count('a'))\n",
    "\n",
    "print(vowel_letters_count(\"Mahasiswa Teknik Industri Angkatan 2021\"))"
   ]
  },
  {
   "cell_type": "markdown",
   "metadata": {},
   "source": [
    "3. Fungsi replace_string merupakan fungsi yang berguna untuk mengganti substring lama pada input kalimat dengan substring baru namun fungsi ini hanya bekerja mengganti substring lama pada akhir kalimat. Salinlah kode berikut dan lengkapi kode yang masih rumpang sehingga menghasilkan output yang diharapkan\n",
    "![](./images/08_FungsiFungsiString03.png)"
   ]
  },
  {
   "cell_type": "code",
   "execution_count": null,
   "metadata": {},
   "outputs": [],
   "source": [
    "#Kerjakan nomor 3 disini"
   ]
  },
  {
   "cell_type": "markdown",
   "metadata": {},
   "source": [
    "4. Salinlah kode berikut dan lengkapi kode yang masih rumpang sehingga menghasilkan output yang diharapkan\n",
    "![](./images/08_FungsiFungsiString04.png)"
   ]
  },
  {
   "cell_type": "code",
   "execution_count": null,
   "metadata": {},
   "outputs": [],
   "source": [
    "#Kerjakan nomor 4 disini"
   ]
  },
  {
   "cell_type": "markdown",
   "metadata": {},
   "source": [
    "5. Salinlah kode berikut\n",
    "![](./images/08_FungsiFungsiString05.png)"
   ]
  },
  {
   "cell_type": "code",
   "execution_count": null,
   "metadata": {},
   "outputs": [],
   "source": [
    "#Kerjakan nomor 5 disini"
   ]
  },
  {
   "cell_type": "markdown",
   "metadata": {},
   "source": [
    "6. Untuk meningkatkan pemahaman kalian dalam fungsi-fungsi numerik, salin kode berikut dan lengkapi kode yang masih rumpang tersebut\n",
    "![](./images/08_FungsiFungsiNumerik.png)"
   ]
  },
  {
   "cell_type": "code",
   "execution_count": null,
   "metadata": {},
   "outputs": [],
   "source": [
    "#Kerjakan nomor 6 disini"
   ]
  },
  {
   "cell_type": "markdown",
   "metadata": {},
   "source": [
    "7. Untuk meningkatkan pemahaman kalian dalam fungsi-fungsi dictionary, salin kode berikut dan lengkapi kode yang masih rumpang tersebut\n",
    "![](./images/08_FungsiFungsiDictionary.png)"
   ]
  },
  {
   "cell_type": "code",
   "execution_count": null,
   "metadata": {},
   "outputs": [],
   "source": [
    "#Kerjakan nomor 7 disini"
   ]
  },
  {
   "cell_type": "markdown",
   "metadata": {},
   "source": [
    "8. Untuk meningkatkan pemahaman kalian dalam fungsi-fungsi list, salin kode berikut dan lengkapi kode yang masih rumpang tersebut\n",
    "![](./images/08_FungsiFungsiList01.png)\n",
    "![](./images/08_FungsiFungsiList02.png)"
   ]
  },
  {
   "cell_type": "code",
   "execution_count": null,
   "metadata": {},
   "outputs": [],
   "source": [
    "#Kerjakan nomor 8 disini"
   ]
  },
  {
   "cell_type": "markdown",
   "metadata": {},
   "source": [
    "### Cara Pengumpulan\n",
    "\n",
    "1. Buka *New Terminal*\n",
    "2. Pastikan *path* Terminal adalah folder repositori kalian (NIM-Nama-Prokom).\n",
    "3. Tambahkan file yang akan ditrack dengan `git add <nama file>`. Nama file bisa diubah . (titik) yang artinya semua file dalam folder akan ditrack.\n",
    "4. Lakukan commit perubahan dengan `git commit -m <deskripsi>`.\n",
    "5. Lakukan push dengan `git push -u origin <nama branch>`. Nama branch dapat diketahui dengan `git branch`.\n",
    "6. Pastikan Exercise-08 telah terupload dan dapat diakses di repositori dengan mengaksesnya di browser."
   ]
  },
  {
   "cell_type": "markdown",
   "metadata": {},
   "source": [
    "***\n",
    "<h1 align=\"center\">Well Done!!!</h1> \n",
    "\n",
    "***"
   ]
  }
 ],
 "metadata": {
  "interpreter": {
   "hash": "a5a87ee616be0254e3f1af9223138e3faeac65b2c9d91bc22a9fc5a4a8bd8eb0"
  },
  "kernelspec": {
   "display_name": "Python 3.9.9 64-bit (windows store)",
   "language": "python",
   "name": "python3"
  },
  "language_info": {
   "codemirror_mode": {
    "name": "ipython",
    "version": 3
   },
   "file_extension": ".py",
   "mimetype": "text/x-python",
   "name": "python",
   "nbconvert_exporter": "python",
   "pygments_lexer": "ipython3",
   "version": "3.9.9"
  },
  "orig_nbformat": 4
 },
 "nbformat": 4,
 "nbformat_minor": 2
}
