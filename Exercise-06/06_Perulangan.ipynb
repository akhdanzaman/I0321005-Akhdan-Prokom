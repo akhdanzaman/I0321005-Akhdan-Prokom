{
 "cells": [
  {
   "cell_type": "markdown",
   "metadata": {},
   "source": [
    "***\n",
    "<h1 align=\"center\">Exercise 06</h1>\n",
    " \n",
    "***\n",
    "## While Loop\n",
    "## Exercise 6.1\n",
    "isilah bagian rumpang berikut. xx diganti tanggal lahir dan yy diganti menjadi bulan lahir. tandanya menyesuaikan yang lebih besar."
   ]
  },
  {
   "cell_type": "code",
   "execution_count": 30,
   "metadata": {},
   "outputs": [
    {
     "name": "stdout",
     "output_type": "stream",
     "text": [
      "Be yourself and never surrender\n",
      "Be yourself and never surrender\n",
      "Be yourself and never surrender\n",
      "Be yourself and never surrender\n",
      "Be yourself and never surrender\n",
      "Be yourself and never surrender\n",
      "Be yourself and never surrender\n",
      "Be yourself and never surrender\n",
      "Be yourself and never surrender\n",
      "Be yourself and never surrender\n",
      "Be yourself and never surrender\n",
      "Be yourself and never surrender\n",
      "Be yourself and never surrender\n",
      "Be yourself and never surrender\n",
      "Be yourself and never surrender\n",
      "Be yourself and never surrender\n",
      "Be yourself and never surrender\n",
      "Be yourself and never surrender\n",
      "Be yourself and never surrender\n"
     ]
    }
   ],
   "source": [
    "#menentukan banyak pengulangan\n",
    "n = 30\n",
    "\n",
    "#melakukan pengulangan\n",
    "i = 11\n",
    "\n",
    "while i != n :\n",
    "    print (\"Be yourself and never surrender\")\n",
    "    #diisi motto kalian\n",
    "    i = i + 1 # sesuaikan dengan atas agar fungsi perulangan dapat berhenti\n"
   ]
  },
  {
   "cell_type": "markdown",
   "metadata": {},
   "source": [
    "## Exercise 6.2\n",
    "\n",
    "Buatlah code seperti yang dicontohkan pada modul agar user dapat menginputkan sendiri jumlah n yang diinginkan"
   ]
  },
  {
   "cell_type": "code",
   "execution_count": 29,
   "metadata": {},
   "outputs": [
    {
     "name": "stdout",
     "output_type": "stream",
     "text": [
      "Be yourself and never surrender\n",
      "Be yourself and never surrender\n",
      "Be yourself and never surrender\n",
      "Be yourself and never surrender\n"
     ]
    }
   ],
   "source": [
    "#Kerjakan \n",
    "# #menentukan banyak pengulangan\n",
    "n = int(input(\"masukan jumlah pengulangan\"))\n",
    "\n",
    "#melakukan pengulangan\n",
    "i = 11\n",
    "\n",
    "while i != n :\n",
    "    print (\"Be yourself and never surrender\")\n",
    "    #diisi motto kalian\n",
    "    i = i + 1 # sesuaikan dengan atas agar fungsi perulangan dapat berhentidisini\n"
   ]
  },
  {
   "cell_type": "markdown",
   "metadata": {},
   "source": [
    "## Excercise 6.3\n",
    "\n",
    "isilah xx, yy, dan tanda rumpang seperti pada exercise 6.1\n"
   ]
  },
  {
   "cell_type": "code",
   "execution_count": null,
   "metadata": {},
   "outputs": [
    {
     "name": "stdout",
     "output_type": "stream",
     "text": [
      "Baris ke-11 : Naruto and Friends\n",
      "Baris ke-12 : Naruto and Friends\n",
      "Baris ke-13 : Naruto and Friends\n",
      "Baris ke-14 : Naruto and Friends\n",
      "Baris ke-15 : Naruto and Friends\n",
      "Baris ke-16 : Naruto and Friends\n",
      "Baris ke-17 : Naruto and Friends\n",
      "Baris ke-18 : Naruto and Friends\n",
      "Baris ke-19 : Naruto and Friends\n",
      "Baris ke-20 : Naruto and Friends\n",
      "Baris ke-21 : Naruto and Friends\n",
      "Baris ke-22 : Naruto and Friends\n",
      "Baris ke-23 : Naruto and Friends\n",
      "Baris ke-24 : Naruto and Friends\n",
      "Baris ke-25 : Naruto and Friends\n",
      "Baris ke-26 : Naruto and Friends\n",
      "Baris ke-27 : Naruto and Friends\n",
      "Baris ke-28 : Naruto and Friends\n",
      "Baris ke-29 : Naruto and Friends\n"
     ]
    }
   ],
   "source": [
    "#melakukan pengulangan\n",
    "i = 11\n",
    "\n",
    "while i != 30 :\n",
    "    print (\"Baris ke-%d : Naruto and Friends\"%i)\n",
    "    #isi titik-titik dengan judul film favorit kalian\n",
    "    i = i + 1 "
   ]
  },
  {
   "cell_type": "markdown",
   "metadata": {},
   "source": [
    "## FOR LOOP\n",
    "\n",
    "## Exercise 6.4\n",
    "\n",
    "munculkan 3 dari 7 elemen yang berada di dalam list1 dan list2\n"
   ]
  },
  {
   "cell_type": "code",
   "execution_count": 16,
   "metadata": {},
   "outputs": [
    {
     "name": "stdout",
     "output_type": "stream",
     "text": [
      "3 mangga Nairobi\n",
      "4 pepaya Oslo\n",
      "5 apel Berlin\n",
      "6 jeruk Helsinki\n",
      "7 kecap Moscow\n"
     ]
    }
   ],
   "source": [
    "list1 = [\n",
    "    'nangka',\n",
    "    'durian',\n",
    "    'mangga',\n",
    "    'pepaya',\n",
    "    'apel',\n",
    "    'jeruk',\n",
    "    'kecap'\n",
    "] #masukkan 7 list makanan favorit kalian\n",
    "list2 = [\n",
    "    'Tokyo',\n",
    "    'Denver',\n",
    "    'Nairobi',\n",
    "    'Oslo',\n",
    "    'Berlin',\n",
    "    'Helsinki',\n",
    "    'Moscow'\n",
    "] #masukkan 7 list kota favorit kalian\n",
    "\n",
    "for i in range(2,7) :\n",
    "    print(i+1, list1[i] , list2[i])"
   ]
  },
  {
   "cell_type": "markdown",
   "metadata": {},
   "source": [
    "## Perulangan Bersarang\n",
    "\n",
    "## Exercise 6.5"
   ]
  },
  {
   "cell_type": "code",
   "execution_count": 31,
   "metadata": {},
   "outputs": [
    {
     "name": "stdout",
     "output_type": "stream",
     "text": [
      "121 \n",
      "132 144 \n",
      "143 156 169 \n",
      "154 168 182 196 \n",
      "165 180 195 210 225 \n",
      "176 192 208 224 240 256 \n",
      "187 204 221 238 255 272 289 \n",
      "198 216 234 252 270 288 306 324 \n",
      "209 228 247 266 285 304 323 342 361 \n",
      "220 240 260 280 300 320 340 360 380 400 \n",
      "231 252 273 294 315 336 357 378 399 420 441 \n",
      "242 264 286 308 330 352 374 396 418 440 462 484 \n",
      "253 276 299 322 345 368 391 414 437 460 483 506 529 \n",
      "264 288 312 336 360 384 408 432 456 480 504 528 552 576 \n",
      "275 300 325 350 375 400 425 450 475 500 525 550 575 600 625 \n",
      "286 312 338 364 390 416 442 468 494 520 546 572 598 624 650 676 \n",
      "297 324 351 378 405 432 459 486 513 540 567 594 621 648 675 702 729 \n",
      "308 336 364 392 420 448 476 504 532 560 588 616 644 672 700 728 756 784 \n",
      "319 348 377 406 435 464 493 522 551 580 609 638 667 696 725 754 783 812 841 \n",
      "330 360 390 420 450 480 510 540 570 600 630 660 690 720 750 780 810 840 870 900 \n"
     ]
    }
   ],
   "source": [
    "i = 11\n",
    "while i <= 30:\n",
    "    j = 11\n",
    "    while j<=i:\n",
    "        print(\"%d \" % (i*j), end = '')\n",
    "        j = j + 1\n",
    "    print()\n",
    "    i+=1"
   ]
  },
  {
   "cell_type": "markdown",
   "metadata": {},
   "source": [
    "## Pernyataan Loncat\n",
    "\n",
    "## Exercise 6.\n",
    "\n",
    "Buatlah fungsi berikut agar muncul angka hingga berhenti sesuai dengan nilai qq\n",
    "qq = angka favorit kalian\n",
    "pp>qq"
   ]
  },
  {
   "cell_type": "code",
   "execution_count": 25,
   "metadata": {},
   "outputs": [
    {
     "name": "stdout",
     "output_type": "stream",
     "text": [
      "0 1 2 3 4 5 6 7 8 9 10 11 12 13 14 15 16 17 18 19 20 21 22 23 24 25 26 27 28 29 30 31 32 33 34 35 36 37 38 39 40 41 42 43 44 45 46 47 48 49 50 51 52 53 54 55 56 57 58 59 60 61 62 63 64 65 66 67 68 69 70 71 72 73 74 75 76 77 78 79 80 81 82 83 84 85 86 87 88 89 90 91 92 93 94 95 96 97 98 99 100 101 102 103 104 105 106 107 108 109 110 111 112 113 114 115 116 117 118 119 120 121 122 123 124 125 126 127 128 129 130 131 132 133 134 135 136 137 138 139 140 141 142 143 144 145 146 147 148 149 150 151 152 153 154 155 156 157 158 159 160 161 162 163 164 165 166 167 168 169 170 171 172 173 174 175 176 177 178 179 180 181 182 183 184 185 186 187 188 189 190 191 192 193 194 195 196 197 198 199 200 201 202 203 204 205 206 207 208 209 210 211 212 213 214 215 216 217 218 219 220 221 222 223 224 225 226 227 228 229 230 231 232 233 234 235 236 237 238 239 240 241 242 243 244 245 246 247 248 249 250 251 252 253 254 255 256 257 258 259 260 261 262 263 264 265 266 267 268 269 270 271 272 273 274 275 276 277 278 279 280 281 282 283 284 285 286 287 288 289 290 291 292 293 294 295 296 297 298 299 300 301 302 303 304 305 306 307 308 309 310 311 312 313 314 315 316 317 318 319 320 321 "
     ]
    }
   ],
   "source": [
    "for i in range(400):\n",
    "    print(i,end=' ')\n",
    "    if i == 321:\n",
    "        break\n"
   ]
  },
  {
   "cell_type": "markdown",
   "metadata": {},
   "source": [
    "***\n",
    "<h1 align=\"center\">WELL DONE</h1>\n",
    " \n",
    "***"
   ]
  }
 ],
 "metadata": {
  "interpreter": {
   "hash": "cd08f94adcf3cbae37fe85286256f4c2a10455ca9094fd053e9f3d3f09647223"
  },
  "kernelspec": {
   "display_name": "Python 3.9.7 64-bit",
   "language": "python",
   "name": "python3"
  },
  "language_info": {
   "codemirror_mode": {
    "name": "ipython",
    "version": 3
   },
   "file_extension": ".py",
   "mimetype": "text/x-python",
   "name": "python",
   "nbconvert_exporter": "python",
   "pygments_lexer": "ipython3",
   "version": "3.9.9"
  },
  "orig_nbformat": 4
 },
 "nbformat": 4,
 "nbformat_minor": 2
}
