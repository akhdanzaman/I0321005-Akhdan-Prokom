{
 "cells": [
  {
   "cell_type": "markdown",
   "metadata": {},
   "source": [
    "***\n",
    "<h1 align=\"center\">Exercise 06</h1>\n",
    " \n",
    "***\n",
    "## While Loop\n",
    "## Exercise 6.1\n",
    "isilah bagian rumpang berikut. xx diganti tanggal lahir dan yy diganti menjadi bulan lahir. tandanya menyesuaikan yang lebih besar."
   ]
  },
  {
   "cell_type": "code",
<<<<<<< HEAD
   "execution_count": 30,
=======
   "execution_count": 1,
>>>>>>> b091ca49e254221cd9ce1d5b4839708934b16990
   "metadata": {},
   "outputs": [
    {
     "name": "stdout",
     "output_type": "stream",
     "text": [
      "Be yourself and never surrender\n",
      "Be yourself and never surrender\n",
      "Be yourself and never surrender\n",
      "Be yourself and never surrender\n",
      "Be yourself and never surrender\n",
      "Be yourself and never surrender\n",
      "Be yourself and never surrender\n",
      "Be yourself and never surrender\n",
      "Be yourself and never surrender\n",
      "Be yourself and never surrender\n",
      "Be yourself and never surrender\n",
      "Be yourself and never surrender\n",
      "Be yourself and never surrender\n",
      "Be yourself and never surrender\n",
      "Be yourself and never surrender\n",
      "Be yourself and never surrender\n",
      "Be yourself and never surrender\n",
      "Be yourself and never surrender\n",
<<<<<<< HEAD
=======
      "Be yourself and never surrender\n",
>>>>>>> b091ca49e254221cd9ce1d5b4839708934b16990
      "Be yourself and never surrender\n"
     ]
    }
   ],
   "source": [
    "#menentukan banyak pengulangan\n",
    "n = 30\n",
    "\n",
    "#melakukan pengulangan\n",
    "i = 11\n",
    "\n",
<<<<<<< HEAD
    "while i != n :\n",
    "    print (\"Be yourself and never surrender\")\n",
    "    #diisi motto kalian\n",
    "    i = i + 1 # sesuaikan dengan atas agar fungsi perulangan dapat berhenti\n"
=======
    "while i <= n :\n",
    "    print (\"Be yourself and never surrender\")\n",
    "    #diisi motto kalian\n",
    "    i = i + 1 # sesuaikan dengan atas agar fungsi perulangan dapat berhenti"
>>>>>>> b091ca49e254221cd9ce1d5b4839708934b16990
   ]
  },
  {
   "cell_type": "markdown",
   "metadata": {},
   "source": [
    "## Exercise 6.2\n",
    "\n",
    "Buatlah code seperti yang dicontohkan pada modul agar user dapat menginputkan sendiri jumlah n yang diinginkan"
   ]
  },
  {
   "cell_type": "code",
<<<<<<< HEAD
   "execution_count": 29,
=======
   "execution_count": 3,
>>>>>>> b091ca49e254221cd9ce1d5b4839708934b16990
   "metadata": {},
   "outputs": [
    {
     "name": "stdout",
     "output_type": "stream",
     "text": [
<<<<<<< HEAD
      "Be yourself and never surrender\n",
      "Be yourself and never surrender\n",
      "Be yourself and never surrender\n",
      "Be yourself and never surrender\n"
=======
      "11\n",
      "12\n",
      "13\n",
      "14\n",
      "15\n",
      "16\n",
      "17\n",
      "18\n",
      "19\n",
      "20\n",
      "21\n",
      "22\n",
      "23\n",
      "24\n",
      "25\n",
      "26\n",
      "27\n",
      "28\n",
      "29\n",
      "30\n",
      "31\n",
      "32\n",
      "33\n",
      "34\n",
      "35\n",
      "36\n",
      "37\n",
      "38\n",
      "39\n",
      "40\n",
      "41\n",
      "42\n",
      "43\n",
      "44\n",
      "45\n",
      "46\n",
      "47\n",
      "48\n",
      "49\n",
      "50\n",
      "51\n",
      "52\n",
      "53\n",
      "54\n",
      "55\n"
>>>>>>> b091ca49e254221cd9ce1d5b4839708934b16990
     ]
    }
   ],
   "source": [
<<<<<<< HEAD
    "#Kerjakan \n",
    "# #menentukan banyak pengulangan\n",
    "n = int(input(\"masukan jumlah pengulangan\"))\n",
    "\n",
    "#melakukan pengulangan\n",
    "i = 11\n",
    "\n",
    "while i != n :\n",
    "    print (\"Be yourself and never surrender\")\n",
    "    #diisi motto kalian\n",
    "    i = i + 1 # sesuaikan dengan atas agar fungsi perulangan dapat berhentidisini\n"
=======
    "#Kerjakan disini\n",
    "n = int(input(\"Masukkan nilai n : \"))\n",
    "i = 11\n",
    "\n",
    "while i <= n:\n",
    "    print(i)\n",
    "    i = i + 1"
>>>>>>> b091ca49e254221cd9ce1d5b4839708934b16990
   ]
  },
  {
   "cell_type": "markdown",
   "metadata": {},
   "source": [
    "## Excercise 6.3\n",
    "\n",
    "isilah xx, yy, dan tanda rumpang seperti pada exercise 6.1\n"
   ]
  },
  {
   "cell_type": "code",
<<<<<<< HEAD
   "execution_count": null,
=======
   "execution_count": 2,
>>>>>>> b091ca49e254221cd9ce1d5b4839708934b16990
   "metadata": {},
   "outputs": [
    {
     "name": "stdout",
     "output_type": "stream",
     "text": [
<<<<<<< HEAD
      "Baris ke-11 : Naruto and Friends\n",
      "Baris ke-12 : Naruto and Friends\n",
      "Baris ke-13 : Naruto and Friends\n",
      "Baris ke-14 : Naruto and Friends\n",
      "Baris ke-15 : Naruto and Friends\n",
      "Baris ke-16 : Naruto and Friends\n",
      "Baris ke-17 : Naruto and Friends\n",
      "Baris ke-18 : Naruto and Friends\n",
      "Baris ke-19 : Naruto and Friends\n",
      "Baris ke-20 : Naruto and Friends\n",
      "Baris ke-21 : Naruto and Friends\n",
      "Baris ke-22 : Naruto and Friends\n",
      "Baris ke-23 : Naruto and Friends\n",
      "Baris ke-24 : Naruto and Friends\n",
      "Baris ke-25 : Naruto and Friends\n",
      "Baris ke-26 : Naruto and Friends\n",
      "Baris ke-27 : Naruto and Friends\n",
      "Baris ke-28 : Naruto and Friends\n",
      "Baris ke-29 : Naruto and Friends\n"
=======
      "Baris ke-30 : 300\n",
      "Baris ke-29 : 300\n",
      "Baris ke-28 : 300\n",
      "Baris ke-27 : 300\n",
      "Baris ke-26 : 300\n",
      "Baris ke-25 : 300\n",
      "Baris ke-24 : 300\n",
      "Baris ke-23 : 300\n",
      "Baris ke-22 : 300\n",
      "Baris ke-21 : 300\n",
      "Baris ke-20 : 300\n",
      "Baris ke-19 : 300\n",
      "Baris ke-18 : 300\n",
      "Baris ke-17 : 300\n",
      "Baris ke-16 : 300\n",
      "Baris ke-15 : 300\n",
      "Baris ke-14 : 300\n",
      "Baris ke-13 : 300\n",
      "Baris ke-12 : 300\n",
      "Baris ke-11 : 300\n"
>>>>>>> b091ca49e254221cd9ce1d5b4839708934b16990
     ]
    }
   ],
   "source": [
    "#melakukan pengulangan\n",
<<<<<<< HEAD
    "i = 11\n",
    "\n",
    "while i != 30 :\n",
    "    print (\"Baris ke-%d : Naruto and Friends\"%i)\n",
    "    #isi titik-titik dengan judul film favorit kalian\n",
    "    i = i + 1 "
   ]
  },
  {
   "cell_type": "markdown",
   "metadata": {},
   "source": [
    "## FOR LOOP\n",
    "\n",
    "## Exercise 6.4\n",
    "\n",
    "munculkan 3 dari 7 elemen yang berada di dalam list1 dan list2\n"
=======
    "i = 30\n",
    "\n",
    "while i >= 11 :\n",
    "    print (\"Baris ke-%d : 300\"%i)\n",
    "    #isi titik-titik dengan judul film favorit kalian\n",
    "    i = i - 1 "
>>>>>>> b091ca49e254221cd9ce1d5b4839708934b16990
   ]
  },
  {
   "cell_type": "code",
<<<<<<< HEAD
   "execution_count": 16,
=======
   "execution_count": 6,
>>>>>>> b091ca49e254221cd9ce1d5b4839708934b16990
   "metadata": {},
   "outputs": [
    {
     "name": "stdout",
     "output_type": "stream",
     "text": [
<<<<<<< HEAD
      "3 mangga Nairobi\n",
      "4 pepaya Oslo\n",
      "5 apel Berlin\n",
      "6 jeruk Helsinki\n",
      "7 kecap Moscow\n"
=======
      "3 Saos bangkok Moscow\n",
      "4 Udon Tokyo\n",
      "5 Taco Professor\n"
>>>>>>> b091ca49e254221cd9ce1d5b4839708934b16990
     ]
    }
   ],
   "source": [
    "list1 = [\n",
<<<<<<< HEAD
    "    'nangka',\n",
    "    'durian',\n",
    "    'mangga',\n",
    "    'pepaya',\n",
    "    'apel',\n",
    "    'jeruk',\n",
    "    'kecap'\n",
    "] #masukkan 7 list makanan favorit kalian\n",
    "list2 = [\n",
    "    'Tokyo',\n",
    "    'Denver',\n",
    "    'Nairobi',\n",
    "    'Oslo',\n",
    "    'Berlin',\n",
    "    'Helsinki',\n",
    "    'Moscow'\n",
    "] #masukkan 7 list kota favorit kalian\n",
    "\n",
    "for i in range(2,7) :\n",
=======
    "    'Kecap asin', \n",
    "    'Kupat tahu',\n",
    "    'Saos bangkok', \n",
    "    'Udon', \n",
    "    'Taco', \n",
    "    'Mie Ayam', \n",
    "    'Sambel kecap'\n",
    "    ] #masukkan 7 list makanan favorit kalian\n",
    "list2 = [\n",
    "    'Surakarta', \n",
    "    'Nairobi', \n",
    "    'Moscow', \n",
    "    'Tokyo', \n",
    "    'Professor', \n",
    "    'Denver', \n",
    "    'Oslo'] #masukkan 7 list kota favorit kalian\n",
    "\n",
    "for i in range(2, 5) :\n",
>>>>>>> b091ca49e254221cd9ce1d5b4839708934b16990
    "    print(i+1, list1[i] , list2[i])"
   ]
  },
  {
   "cell_type": "markdown",
   "metadata": {},
   "source": [
    "## Perulangan Bersarang\n",
    "\n",
    "## Exercise 6.5"
   ]
  },
  {
   "cell_type": "code",
<<<<<<< HEAD
   "execution_count": 31,
=======
   "execution_count": 8,
>>>>>>> b091ca49e254221cd9ce1d5b4839708934b16990
   "metadata": {},
   "outputs": [
    {
     "name": "stdout",
     "output_type": "stream",
     "text": [
<<<<<<< HEAD
      "121 \n",
      "132 144 \n",
      "143 156 169 \n",
      "154 168 182 196 \n",
      "165 180 195 210 225 \n",
      "176 192 208 224 240 256 \n",
      "187 204 221 238 255 272 289 \n",
      "198 216 234 252 270 288 306 324 \n",
      "209 228 247 266 285 304 323 342 361 \n",
      "220 240 260 280 300 320 340 360 380 400 \n",
      "231 252 273 294 315 336 357 378 399 420 441 \n",
      "242 264 286 308 330 352 374 396 418 440 462 484 \n",
      "253 276 299 322 345 368 391 414 437 460 483 506 529 \n",
      "264 288 312 336 360 384 408 432 456 480 504 528 552 576 \n",
      "275 300 325 350 375 400 425 450 475 500 525 550 575 600 625 \n",
      "286 312 338 364 390 416 442 468 494 520 546 572 598 624 650 676 \n",
      "297 324 351 378 405 432 459 486 513 540 567 594 621 648 675 702 729 \n",
      "308 336 364 392 420 448 476 504 532 560 588 616 644 672 700 728 756 784 \n",
      "319 348 377 406 435 464 493 522 551 580 609 638 667 696 725 754 783 812 841 \n",
      "330 360 390 420 450 480 510 540 570 600 630 660 690 720 750 780 810 840 870 900 \n"
=======
      "900 \n",
      "870 841 \n",
      "840 812 784 \n",
      "810 783 756 729 \n",
      "780 754 728 702 676 \n",
      "750 725 700 675 650 625 \n",
      "720 696 672 648 624 600 576 \n",
      "690 667 644 621 598 575 552 529 \n",
      "660 638 616 594 572 550 528 506 484 \n",
      "630 609 588 567 546 525 504 483 462 441 \n",
      "600 580 560 540 520 500 480 460 440 420 400 \n",
      "570 551 532 513 494 475 456 437 418 399 380 361 \n",
      "540 522 504 486 468 450 432 414 396 378 360 342 324 \n",
      "510 493 476 459 442 425 408 391 374 357 340 323 306 289 \n",
      "480 464 448 432 416 400 384 368 352 336 320 304 288 272 256 \n",
      "450 435 420 405 390 375 360 345 330 315 300 285 270 255 240 225 \n",
      "420 406 392 378 364 350 336 322 308 294 280 266 252 238 224 210 196 \n",
      "390 377 364 351 338 325 312 299 286 273 260 247 234 221 208 195 182 169 \n",
      "360 348 336 324 312 300 288 276 264 252 240 228 216 204 192 180 168 156 144 \n",
      "330 319 308 297 286 275 264 253 242 231 220 209 198 187 176 165 154 143 132 121 \n"
>>>>>>> b091ca49e254221cd9ce1d5b4839708934b16990
     ]
    }
   ],
   "source": [
<<<<<<< HEAD
    "i = 11\n",
    "while i <= 30:\n",
    "    j = 11\n",
    "    while j<=i:\n",
    "        print(\"%d \" % (i*j), end = '')\n",
    "        j = j + 1\n",
    "    print()\n",
    "    i+=1"
=======
    "i = 30\n",
    "while i >= 11:\n",
    "    j = 30\n",
    "    while j>=i:\n",
    "        print(\"%d \" % (i*j), end = '')\n",
    "        j = j - 1\n",
    "    print()\n",
    "    i-=1"
>>>>>>> b091ca49e254221cd9ce1d5b4839708934b16990
   ]
  },
  {
   "cell_type": "markdown",
   "metadata": {},
   "source": [
    "## Pernyataan Loncat\n",
    "\n",
    "## Exercise 6.\n",
    "\n",
    "Buatlah fungsi berikut agar muncul angka hingga berhenti sesuai dengan nilai qq\n",
    "qq = angka favorit kalian\n",
    "pp>qq"
   ]
  },
  {
   "cell_type": "code",
<<<<<<< HEAD
   "execution_count": 25,
=======
   "execution_count": 9,
>>>>>>> b091ca49e254221cd9ce1d5b4839708934b16990
   "metadata": {},
   "outputs": [
    {
     "name": "stdout",
     "output_type": "stream",
     "text": [
<<<<<<< HEAD
      "0 1 2 3 4 5 6 7 8 9 10 11 12 13 14 15 16 17 18 19 20 21 22 23 24 25 26 27 28 29 30 31 32 33 34 35 36 37 38 39 40 41 42 43 44 45 46 47 48 49 50 51 52 53 54 55 56 57 58 59 60 61 62 63 64 65 66 67 68 69 70 71 72 73 74 75 76 77 78 79 80 81 82 83 84 85 86 87 88 89 90 91 92 93 94 95 96 97 98 99 100 101 102 103 104 105 106 107 108 109 110 111 112 113 114 115 116 117 118 119 120 121 122 123 124 125 126 127 128 129 130 131 132 133 134 135 136 137 138 139 140 141 142 143 144 145 146 147 148 149 150 151 152 153 154 155 156 157 158 159 160 161 162 163 164 165 166 167 168 169 170 171 172 173 174 175 176 177 178 179 180 181 182 183 184 185 186 187 188 189 190 191 192 193 194 195 196 197 198 199 200 201 202 203 204 205 206 207 208 209 210 211 212 213 214 215 216 217 218 219 220 221 222 223 224 225 226 227 228 229 230 231 232 233 234 235 236 237 238 239 240 241 242 243 244 245 246 247 248 249 250 251 252 253 254 255 256 257 258 259 260 261 262 263 264 265 266 267 268 269 270 271 272 273 274 275 276 277 278 279 280 281 282 283 284 285 286 287 288 289 290 291 292 293 294 295 296 297 298 299 300 301 302 303 304 305 306 307 308 309 310 311 312 313 314 315 316 317 318 319 320 321 "
=======
      "01234567891011121314151617181920"
>>>>>>> b091ca49e254221cd9ce1d5b4839708934b16990
     ]
    }
   ],
   "source": [
<<<<<<< HEAD
    "for i in range(400):\n",
    "    print(i,end=' ')\n",
    "    if i == 321:\n",
    "        break\n"
=======
    "for i in range(33):\n",
    "    print(i,end='')\n",
    "    if i == 20:\n",
    "        break"
>>>>>>> b091ca49e254221cd9ce1d5b4839708934b16990
   ]
  },
  {
   "cell_type": "markdown",
   "metadata": {},
   "source": [
    "***\n",
    "<h1 align=\"center\">WELL DONE</h1>\n",
    " \n",
    "***"
   ]
  }
 ],
 "metadata": {
  "interpreter": {
   "hash": "cd08f94adcf3cbae37fe85286256f4c2a10455ca9094fd053e9f3d3f09647223"
  },
  "kernelspec": {
   "display_name": "Python 3.9.7 64-bit",
   "language": "python",
   "name": "python3"
  },
  "language_info": {
   "codemirror_mode": {
    "name": "ipython",
    "version": 3
   },
   "file_extension": ".py",
   "mimetype": "text/x-python",
   "name": "python",
   "nbconvert_exporter": "python",
   "pygments_lexer": "ipython3",
<<<<<<< HEAD
   "version": "3.9.9"
=======
   "version": "3.9.12"
>>>>>>> b091ca49e254221cd9ce1d5b4839708934b16990
  },
  "orig_nbformat": 4
 },
 "nbformat": 4,
 "nbformat_minor": 2
}
