{
 "cells": [
  {
   "cell_type": "markdown",
   "metadata": {},
   "source": [
    "***\n",
    "<h1 align=\"center\">Exercise 06</h1>\n",
    " \n",
    "***\n",
    "## While Loop\n",
    "## Exercise 6.1\n",
    "isilah bagian rumpang berikut. xx diganti tanggal lahir dan yy diganti menjadi bulan lahir. tandanya menyesuaikan yang lebih besar."
   ]
  },
  {
   "cell_type": "code",
   "execution_count": 1,
   "metadata": {},
   "outputs": [
    {
     "name": "stdout",
     "output_type": "stream",
     "text": [
      "Be yourself and never surrender\n",
      "Be yourself and never surrender\n",
      "Be yourself and never surrender\n",
      "Be yourself and never surrender\n",
      "Be yourself and never surrender\n",
      "Be yourself and never surrender\n",
      "Be yourself and never surrender\n",
      "Be yourself and never surrender\n",
      "Be yourself and never surrender\n",
      "Be yourself and never surrender\n",
      "Be yourself and never surrender\n",
      "Be yourself and never surrender\n",
      "Be yourself and never surrender\n",
      "Be yourself and never surrender\n",
      "Be yourself and never surrender\n",
      "Be yourself and never surrender\n",
      "Be yourself and never surrender\n",
      "Be yourself and never surrender\n",
      "Be yourself and never surrender\n",
      "Be yourself and never surrender\n"
     ]
    }
   ],
   "source": [
    "#menentukan banyak pengulangan\n",
    "n = 30\n",
    "\n",
    "#melakukan pengulangan\n",
    "i = 11\n",
    "\n",
    "while i <= n :\n",
    "    print (\"Be yourself and never surrender\")\n",
    "    #diisi motto kalian\n",
    "    i = i + 1 # sesuaikan dengan atas agar fungsi perulangan dapat berhenti"
   ]
  },
  {
   "cell_type": "markdown",
   "metadata": {},
   "source": [
    "## Exercise 6.2\n",
    "\n",
    "Buatlah code seperti yang dicontohkan pada modul agar user dapat menginputkan sendiri jumlah n yang diinginkan"
   ]
  },
  {
   "cell_type": "code",
   "execution_count": 3,
   "metadata": {},
   "outputs": [
    {
     "name": "stdout",
     "output_type": "stream",
     "text": [
      "11\n",
      "12\n",
      "13\n",
      "14\n",
      "15\n",
      "16\n",
      "17\n",
      "18\n",
      "19\n",
      "20\n",
      "21\n",
      "22\n",
      "23\n",
      "24\n",
      "25\n",
      "26\n",
      "27\n",
      "28\n",
      "29\n",
      "30\n",
      "31\n",
      "32\n",
      "33\n",
      "34\n",
      "35\n",
      "36\n",
      "37\n",
      "38\n",
      "39\n",
      "40\n",
      "41\n",
      "42\n",
      "43\n",
      "44\n",
      "45\n",
      "46\n",
      "47\n",
      "48\n",
      "49\n",
      "50\n",
      "51\n",
      "52\n",
      "53\n",
      "54\n",
      "55\n"
     ]
    }
   ],
   "source": [
    "#Kerjakan disini\n",
    "n = int(input(\"Masukkan nilai n : \"))\n",
    "i = 11\n",
    "\n",
    "while i <= n:\n",
    "    print(i)\n",
    "    i = i + 1"
   ]
  },
  {
   "cell_type": "markdown",
   "metadata": {},
   "source": [
    "## Excercise 6.3\n",
    "\n",
    "isilah xx, yy, dan tanda rumpang seperti pada exercise 6.1\n"
   ]
  },
  {
   "cell_type": "code",
   "execution_count": 2,
   "metadata": {},
   "outputs": [
    {
     "name": "stdout",
     "output_type": "stream",
     "text": [
      "Baris ke-30 : 300\n",
      "Baris ke-29 : 300\n",
      "Baris ke-28 : 300\n",
      "Baris ke-27 : 300\n",
      "Baris ke-26 : 300\n",
      "Baris ke-25 : 300\n",
      "Baris ke-24 : 300\n",
      "Baris ke-23 : 300\n",
      "Baris ke-22 : 300\n",
      "Baris ke-21 : 300\n",
      "Baris ke-20 : 300\n",
      "Baris ke-19 : 300\n",
      "Baris ke-18 : 300\n",
      "Baris ke-17 : 300\n",
      "Baris ke-16 : 300\n",
      "Baris ke-15 : 300\n",
      "Baris ke-14 : 300\n",
      "Baris ke-13 : 300\n",
      "Baris ke-12 : 300\n",
      "Baris ke-11 : 300\n"
     ]
    }
   ],
   "source": [
    "#melakukan pengulangan\n",
    "i = 30\n",
    "\n",
    "while i >= 11 :\n",
    "    print (\"Baris ke-%d : 300\"%i)\n",
    "    #isi titik-titik dengan judul film favorit kalian\n",
    "    i = i - 1 "
   ]
  },
  {
   "cell_type": "code",
   "execution_count": 6,
   "metadata": {},
   "outputs": [
    {
     "name": "stdout",
     "output_type": "stream",
     "text": [
      "3 Saos bangkok Moscow\n",
      "4 Udon Tokyo\n",
      "5 Taco Professor\n"
     ]
    }
   ],
   "source": [
    "list1 = [\n",
    "    'Kecap asin', \n",
    "    'Kupat tahu',\n",
    "    'Saos bangkok', \n",
    "    'Udon', \n",
    "    'Taco', \n",
    "    'Mie Ayam', \n",
    "    'Sambel kecap'\n",
    "    ] #masukkan 7 list makanan favorit kalian\n",
    "list2 = [\n",
    "    'Surakarta', \n",
    "    'Nairobi', \n",
    "    'Moscow', \n",
    "    'Tokyo', \n",
    "    'Professor', \n",
    "    'Denver', \n",
    "    'Oslo'] #masukkan 7 list kota favorit kalian\n",
    "\n",
    "for i in range(2, 5) :\n",
    "    print(i+1, list1[i] , list2[i])"
   ]
  },
  {
   "cell_type": "markdown",
   "metadata": {},
   "source": [
    "## Perulangan Bersarang\n",
    "\n",
    "## Exercise 6.5"
   ]
  },
  {
   "cell_type": "code",
   "execution_count": 8,
   "metadata": {},
   "outputs": [
    {
     "name": "stdout",
     "output_type": "stream",
     "text": [
      "900 \n",
      "870 841 \n",
      "840 812 784 \n",
      "810 783 756 729 \n",
      "780 754 728 702 676 \n",
      "750 725 700 675 650 625 \n",
      "720 696 672 648 624 600 576 \n",
      "690 667 644 621 598 575 552 529 \n",
      "660 638 616 594 572 550 528 506 484 \n",
      "630 609 588 567 546 525 504 483 462 441 \n",
      "600 580 560 540 520 500 480 460 440 420 400 \n",
      "570 551 532 513 494 475 456 437 418 399 380 361 \n",
      "540 522 504 486 468 450 432 414 396 378 360 342 324 \n",
      "510 493 476 459 442 425 408 391 374 357 340 323 306 289 \n",
      "480 464 448 432 416 400 384 368 352 336 320 304 288 272 256 \n",
      "450 435 420 405 390 375 360 345 330 315 300 285 270 255 240 225 \n",
      "420 406 392 378 364 350 336 322 308 294 280 266 252 238 224 210 196 \n",
      "390 377 364 351 338 325 312 299 286 273 260 247 234 221 208 195 182 169 \n",
      "360 348 336 324 312 300 288 276 264 252 240 228 216 204 192 180 168 156 144 \n",
      "330 319 308 297 286 275 264 253 242 231 220 209 198 187 176 165 154 143 132 121 \n"
     ]
    }
   ],
   "source": [
    "i = 30\n",
    "while i >= 11:\n",
    "    j = 30\n",
    "    while j>=i:\n",
    "        print(\"%d \" % (i*j), end = '')\n",
    "        j = j - 1\n",
    "    print()\n",
    "    i-=1"
   ]
  },
  {
   "cell_type": "markdown",
   "metadata": {},
   "source": [
    "## Pernyataan Loncat\n",
    "\n",
    "## Exercise 6.\n",
    "\n",
    "Buatlah fungsi berikut agar muncul angka hingga berhenti sesuai dengan nilai qq\n",
    "qq = angka favorit kalian\n",
    "pp>qq"
   ]
  },
  {
   "cell_type": "code",
   "execution_count": 9,
   "metadata": {},
   "outputs": [
    {
     "name": "stdout",
     "output_type": "stream",
     "text": [
      "01234567891011121314151617181920"
     ]
    }
   ],
   "source": [
    "for i in range(33):\n",
    "    print(i,end='')\n",
    "    if i == 20:\n",
    "        break"
   ]
  },
  {
   "cell_type": "markdown",
   "metadata": {},
   "source": [
    "***\n",
    "<h1 align=\"center\">WELL DONE</h1>\n",
    " \n",
    "***"
   ]
  }
 ],
 "metadata": {
  "interpreter": {
   "hash": "cd08f94adcf3cbae37fe85286256f4c2a10455ca9094fd053e9f3d3f09647223"
  },
  "kernelspec": {
   "display_name": "Python 3.9.7 64-bit",
   "language": "python",
   "name": "python3"
  },
  "language_info": {
   "codemirror_mode": {
    "name": "ipython",
    "version": 3
   },
   "file_extension": ".py",
   "mimetype": "text/x-python",
   "name": "python",
   "nbconvert_exporter": "python",
   "pygments_lexer": "ipython3",
   "version": "3.9.12"
  },
  "orig_nbformat": 4
 },
 "nbformat": 4,
 "nbformat_minor": 2
}
