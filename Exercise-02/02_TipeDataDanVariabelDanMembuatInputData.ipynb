{
 "cells": [
  {
   "cell_type": "markdown",
   "metadata": {},
   "source": [
    "# Exercise 2\n",
    "\n",
    "1. Salinlah kode di bawah ini dan isilah titik-titik sesuai dengan perintah yang ada\n",
    "![](./images/02_TipeDataDanVariabel.png)"
   ]
  },
  {
   "cell_type": "code",
   "execution_count": 1,
   "metadata": {},
   "outputs": [
    {
     "name": "stdout",
     "output_type": "stream",
     "text": [
      "nama lengkap saya adalah =  Akhdan Hanif Karitika Zaman\n",
      "nama panggilan saya adalah =  Akhdan\n",
      "Umur saya saat ini adalah =  16\n",
      "tipe data variabel Umur adalah =  <class 'str'>\n",
      "Umur saya saat ini adalah =  enam belas tahun\n",
      "tipe data variabel Umur adalah =  <class 'str'>\n",
      "tinggi badan saya saat ini adalah =  169.5\n",
      "tipe data variabel tinggi badan adalah =  <class 'float'>\n",
      "saya merupakan mahasiswa angkatan 2021 adalah =  True\n",
      "tipe data variabel mahasiswaangkatan2021 adalah =  <class 'bool'>\n"
     ]
    }
   ],
   "source": [
    "#Kerjakan nomor satu disini\n",
    "Nama = \"Akhdan Hanif Karitika Zaman\"\n",
    "nama = \"Akhdan\"\n",
    "print(\"nama lengkap saya adalah = \", Nama)\n",
    "print(\"nama panggilan saya adalah = \", nama)\n",
    "_umur = \"16\"\n",
    "print(\"Umur saya saat ini adalah = \",_umur)\n",
    "print(\"tipe data variabel Umur adalah = \",type(_umur))\n",
    "_umur = \"enam belas tahun\"\n",
    "print(\"Umur saya saat ini adalah = \",_umur)\n",
    "print(\"tipe data variabel Umur adalah = \",type(_umur))\n",
    "tinggi_badan = float(169+0.5)\n",
    "print(\"tinggi badan saya saat ini adalah = \",tinggi_badan)\n",
    "print(\"tipe data variabel tinggi badan adalah = \",type(tinggi_badan))\n",
    "mahasiswaangkatan2021 = True\n",
    "print(\"saya merupakan mahasiswa angkatan 2021 adalah = \",mahasiswaangkatan2021)\n",
    "print(\"tipe data variabel mahasiswaangkatan2021 adalah = \",type(mahasiswaangkatan2021))\n"
   ]
  },
  {
   "cell_type": "markdown",
   "metadata": {},
   "source": [
    "2. Salinlah kode di bawah ini dan isilah titik-titik sesuai dengan perintah yang ada\n",
    "![](./images/02_MembuatInputData.png)"
   ]
  },
  {
   "cell_type": "code",
   "execution_count": 9,
   "metadata": {},
   "outputs": [
    {
     "name": "stdout",
     "output_type": "stream",
     "text": [
      "Program Konversi Panjang dalam Meter ke berbagai Satuan\n",
      "\n",
      "\n",
      "32 m = 0.032 km\n",
      "32 m = 3200 cm\n",
      "32 m = 32000 mm\n",
      "32 m = 32000000 μm\n",
      "32 m = 32000000000 nm\n",
      "32 m = 1259.8425 in\n",
      "32 m = 104.9869 ft\n",
      "32 m = 34.9956 yard\n",
      "32 m = 0.0199 mi\n",
      "32 m = 0.0173 nmi\n"
     ]
    }
   ],
   "source": [
    "#Kerjakan nomor satu disini\n",
    "#simbol miu --> μ\n",
    "print(\"Program Konversi Panjang dalam Meter ke berbagai Satuan\")\n",
    "print(\"\")\n",
    "length = int(input(\"masukan nilai panjang dalam meter : \"))\n",
    "feet = length / 0.3048\n",
    "print(\"\")\n",
    "print(length, \"m =\", length / 1000, \"km\")\n",
    "print(length, \"m =\", length * 100, \"cm\")\n",
    "print(length, \"m =\", length * 1000, \"mm\")\n",
    "print(length, \"m =\", length * 1000000, \"μm\")\n",
    "print(length, \"m =\", length * 1000000000, \"nm\")\n",
    "print(length, \"m =\", round(feet * 12, 4), \"in\")\n",
    "print(length, \"m =\", round(feet, 4), \"ft\")\n",
    "print(length, \"m =\", round(feet / 3, 4), \"yard\")\n",
    "print(length, \"m =\", round(feet / 5280, 4), \"mi\")\n",
    "print(length, \"m =\", round(length / 1852, 4), \"nmi\")"
   ]
  },
  {
   "cell_type": "markdown",
   "metadata": {},
   "source": [
    "### Cara Pengumpulan\n",
    "\n",
    "1. Buka *New Terminal*\n",
    "2. Pastikan *path* Terminal adalah folder repositori kalian (NIM-Nama-Prokom).\n",
    "3. Tambahkan file yang akan ditrack dengan `git add <nama file>`. Nama file bisa diubah . (titik) yang artinya semua file dalam folder akan ditrack.\n",
    "4. Lakukan commit perubahan dengan `git commit -m <deskripsi>`.\n",
    "5. Lakukan push dengan `git push -u origin <nama branch>`. Nama branch dapat diketahui dengan `git branch`.\n",
    "6. Pastikan Exercise-02 telah terupload dan dapat diakses di repositori dengan mengaksesnya di browser."
   ]
  }
 ],
 "metadata": {
  "interpreter": {
   "hash": "ac59ebe37160ed0dfa835113d9b8498d9f09ceb179beaac4002f036b9467c963"
  },
  "kernelspec": {
   "display_name": "Python 3.9.8 64-bit",
   "language": "python",
   "name": "python3"
  },
  "language_info": {
   "codemirror_mode": {
    "name": "ipython",
    "version": 3
   },
   "file_extension": ".py",
   "mimetype": "text/x-python",
   "name": "python",
   "nbconvert_exporter": "python",
   "pygments_lexer": "ipython3",
   "version": "3.9.9"
  },
  "orig_nbformat": 4
 },
 "nbformat": 4,
 "nbformat_minor": 2
}
